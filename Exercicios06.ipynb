{
 "cells": [
  {
   "cell_type": "code",
   "execution_count": null,
   "metadata": {},
   "outputs": [],
   "source": []
  },
  {
   "cell_type": "markdown",
   "metadata": {},
   "source": [
    "1. Utilizando o comando for, exiba todos os números ímpares, de 1 a 40"
   ]
  },
  {
   "cell_type": "code",
   "execution_count": 2,
   "metadata": {},
   "outputs": [
    {
     "name": "stdout",
     "output_type": "stream",
     "text": [
      "1\n",
      "3\n",
      "5\n",
      "7\n",
      "9\n",
      "11\n",
      "13\n",
      "15\n",
      "17\n",
      "19\n",
      "21\n",
      "23\n",
      "25\n",
      "27\n",
      "29\n",
      "31\n",
      "33\n",
      "35\n",
      "37\n",
      "39\n"
     ]
    }
   ],
   "source": [
    "for x in range(1, 40) :\n",
    "    if x % 2 !=  0 :\n",
    "     print(x)"
   ]
  },
  {
   "cell_type": "markdown",
   "metadata": {},
   "source": [
    "2. Gere os 6 números do sorteio da mega-sena de forma aleatória."
   ]
  },
  {
   "cell_type": "code",
   "execution_count": 3,
   "metadata": {},
   "outputs": [
    {
     "name": "stdout",
     "output_type": "stream",
     "text": [
      "O numero sorteado é 59\n",
      "O numero sorteado é 34\n",
      "O numero sorteado é 10\n",
      "O numero sorteado é 22\n",
      "O numero sorteado é 43\n",
      "O numero sorteado é 34\n"
     ]
    }
   ],
   "source": [
    "import random\n",
    "for x in range (6):\n",
    "    nr_sorteado = random.randint(1, 60)\n",
    "    print(f'O numero sorteado é {nr_sorteado}')\n"
   ]
  },
  {
   "cell_type": "markdown",
   "metadata": {},
   "source": [
    "3. Receba 5 números e verifique a soma e a quantidade de todos os pares e ímpares digitados"
   ]
  },
  {
   "cell_type": "code",
   "execution_count": 6,
   "metadata": {},
   "outputs": [
    {
     "name": "stdout",
     "output_type": "stream",
     "text": [
      "A soma dos números é 7.0\n",
      "A quantidade de números pares é 0. A quantidade de números impares é 1\n",
      "A soma dos números é 12.0\n",
      "A quantidade de números pares é 0. A quantidade de números impares é 2\n",
      "A soma dos números é 21.0\n",
      "A quantidade de números pares é 1. A quantidade de números impares é 3\n"
     ]
    }
   ],
   "source": [
    "soma = 0\n",
    "qntdpar = 0\n",
    "qntdimpar = 0\n",
    "for x in range(5) :\n",
    "   numero = float (input('Digite um número:'))\n",
    "   if numero % 2 == 0 :\n",
    "      soma = numero + soma\n",
    "      qntdpar = qntdpar + 1\n",
    "   else :\n",
    "      soma = numero + soma\n",
    "      qntdimpar = qntdimpar + 1\n",
    "      print (f'A soma dos números é {soma}')\n",
    "      print (f'A quantidade de números pares é {qntdpar}. A quantidade de números impares é {qntdimpar}')"
   ]
  },
  {
   "cell_type": "markdown",
   "metadata": {},
   "source": [
    "4. Solicite os parâmetros de início, fim e passo para o laço de repetição usando a função range() e exiba o valor atual da variável de controle a cada iteração. range( x , y , z )"
   ]
  },
  {
   "cell_type": "code",
   "execution_count": null,
   "metadata": {},
   "outputs": [],
   "source": [
    "x = int (input('Digite um número:'))\n",
    "y = int (input('Digite um número:'))\n",
    "z = int (input('Digite um número:'))\n",
    "for x in range (x, y, z) :\n",
    "    print(x)"
   ]
  },
  {
   "cell_type": "markdown",
   "metadata": {},
   "source": [
    "5. Ler do teclado a idade e o sexo de 10 pessoas, calcule e imprima: \n",
    "idade média das mulheres\n",
    "idade média dos homens\n",
    "idade média do grupo"
   ]
  },
  {
   "cell_type": "code",
   "execution_count": 1,
   "metadata": {},
   "outputs": [
    {
     "name": "stdout",
     "output_type": "stream",
     "text": [
      "Média das mulheres 19.333333333333332\n",
      "Média dos homens 25.5\n",
      "Média do grupo 21.8\n"
     ]
    }
   ],
   "source": [
    "soma_mulheres = 0\n",
    "soma_homens = 0\n",
    "qtde_mulheres = 0\n",
    "qtde_homens = 0\n",
    "for x in range (5) :\n",
    "    idade = int(input('Digite a idade:'))\n",
    "    sexo = input('Digite o sexo: [F/M]')\n",
    "    if sexo == 'F' :\n",
    "        soma_mulheres = soma_mulheres + idade\n",
    "        qtde_mulheres = qtde_mulheres + 1\n",
    "    else :\n",
    "        soma_homens = soma_homens + idade\n",
    "        qtde_homens = qtde_homens + 1\n",
    "print(f'Média das mulheres {soma_mulheres / qtde_mulheres}')\n",
    "print(f'Média dos homens {soma_homens / qtde_homens}')\n",
    "print(f'Média do grupo {(soma_homens + soma_mulheres) / (qtde_homens + qtde_mulheres)}') "
   ]
  },
  {
   "cell_type": "markdown",
   "metadata": {},
   "source": [
    "6. Escreva um programa que mostre todos os números entre 5 e 100 que são divisiveis por 7. Os números obtidos devem ser impressos em sequência."
   ]
  },
  {
   "cell_type": "code",
   "execution_count": 2,
   "metadata": {},
   "outputs": [
    {
     "name": "stdout",
     "output_type": "stream",
     "text": [
      "7\n",
      "14\n",
      "21\n",
      "28\n",
      "35\n",
      "42\n",
      "49\n",
      "56\n",
      "63\n",
      "70\n",
      "77\n",
      "84\n",
      "91\n",
      "98\n"
     ]
    }
   ],
   "source": [
    "for nr in range (5, 100) :\n",
    "    if nr % 7 == 0 :\n",
    "        print(nr)"
   ]
  },
  {
   "cell_type": "markdown",
   "metadata": {},
   "source": [
    "7. Escreva um programa em Python "
   ]
  },
  {
   "cell_type": "code",
   "execution_count": 3,
   "metadata": {},
   "outputs": [
    {
     "name": "stdout",
     "output_type": "stream",
     "text": [
      "ihsus\n"
     ]
    }
   ],
   "source": [
    "palavra = input('Digite uma palavra:')\n",
    "nova_palavra = ''\n",
    "for letra in palavra :\n",
    "    nova_palavra = letra + nova_palavra\n",
    "\n",
    "print(nova_palavra)"
   ]
  }
 ],
 "metadata": {
  "kernelspec": {
   "display_name": "Python 3",
   "language": "python",
   "name": "python3"
  },
  "language_info": {
   "codemirror_mode": {
    "name": "ipython",
    "version": 3
   },
   "file_extension": ".py",
   "mimetype": "text/x-python",
   "name": "python",
   "nbconvert_exporter": "python",
   "pygments_lexer": "ipython3",
   "version": "3.12.2"
  }
 },
 "nbformat": 4,
 "nbformat_minor": 2
}
