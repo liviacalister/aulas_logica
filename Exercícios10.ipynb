{
 "cells": [
  {
   "cell_type": "markdown",
   "metadata": {},
   "source": [
    "1. Escreva uma função que utilize uma variável global para contar o número de vezes que foi chamada. A função deve retornar o número atual de chamadas."
   ]
  },
  {
   "cell_type": "code",
   "execution_count": 3,
   "metadata": {},
   "outputs": [
    {
     "name": "stdout",
     "output_type": "stream",
     "text": [
      "Dentro da função 1\n",
      "Dentro da função 2\n",
      "Dentro da função 3\n"
     ]
    }
   ],
   "source": [
    "x = 0\n",
    "def contador_chamadas():\n",
    "    global x\n",
    "    x = x + 1\n",
    "    print('Dentro da função', x)\n",
    "\n",
    "contador_chamadas()\n",
    "contador_chamadas()\n",
    "contador_chamadas()"
   ]
  },
  {
   "cell_type": "markdown",
   "metadata": {},
   "source": [
    "2. Crie um algoritmo que receba em variável global o valor atual do dólar e do euro, crie uma função que receba o valor a ser convertido e imprima a conversão em dólar e em euro"
   ]
  },
  {
   "cell_type": "code",
   "execution_count": 5,
   "metadata": {},
   "outputs": [
    {
     "name": "stdout",
     "output_type": "stream",
     "text": [
      "O valor convertido para dolar é 1.95\n",
      "O valor convertido para euro é 1.83\n"
     ]
    }
   ],
   "source": [
    "dolar = 5.13\n",
    "euro = 5.45\n",
    "def converter(valor):\n",
    "    valor_convertido_dolar = valor/dolar\n",
    "    valor_convertido_euro = valor/euro\n",
    "    print(f'O valor convertido para dolar é {valor_convertido_dolar:.2f}')\n",
    "    print(f'O valor convertido para euro é {valor_convertido_euro:.2f}')\n",
    "\n",
    "converter(10)"
   ]
  },
  {
   "cell_type": "markdown",
   "metadata": {},
   "source": [
    "3. Escreva uma função que recebe um nome e o adicione a uma lista de nomes global. Em seguida, escreva outra função que remova um elemento dessa lista global recebendo o nome."
   ]
  },
  {
   "cell_type": "code",
   "execution_count": null,
   "metadata": {},
   "outputs": [],
   "source": [
    "def nome():\n",
    "    listaNomes = ['Pedro', 'Paulo' , 'Alex']\n",
    "\n"
   ]
  }
 ],
 "metadata": {
  "kernelspec": {
   "display_name": "Python 3",
   "language": "python",
   "name": "python3"
  },
  "language_info": {
   "codemirror_mode": {
    "name": "ipython",
    "version": 3
   },
   "file_extension": ".py",
   "mimetype": "text/x-python",
   "name": "python",
   "nbconvert_exporter": "python",
   "pygments_lexer": "ipython3",
   "version": "3.12.3"
  }
 },
 "nbformat": 4,
 "nbformat_minor": 2
}
