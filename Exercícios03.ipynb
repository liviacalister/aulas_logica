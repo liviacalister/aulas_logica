{
 "cells": [
  {
   "cell_type": "markdown",
   "metadata": {},
   "source": [
    "1 - Pede ao usuário para digitar um número de 1 a 7 e imprime o dia da semana correspondente."
   ]
  },
  {
   "cell_type": "code",
   "execution_count": 10,
   "metadata": {},
   "outputs": [
    {
     "name": "stdout",
     "output_type": "stream",
     "text": [
      "Quinta-feira\n"
     ]
    }
   ],
   "source": [
    "numero =  int (input ('Digite um número de 1 a 7:'))\n",
    "match numero :\n",
    "    case 1:\n",
    "        print (f'Domingo')\n",
    "    case 2:\n",
    "        print (f'Segunda-feira')\n",
    "    case 3: \n",
    "        print (f'Terça-feira')\n",
    "    case 4:\n",
    "        print (f'Quarta-feira')\n",
    "    case 5:\n",
    "        print (f'Quinta-feira')\n",
    "    case 6:\n",
    "        print (f'Sexta-feira')\n",
    "    case 7:\n",
    "        print (f'Sábado')\n",
    "    case _ :\n",
    "        print (f'Número inválido')\n",
    "    "
   ]
  },
  {
   "cell_type": "markdown",
   "metadata": {},
   "source": [
    "2 - Pede ao usuário o ano atual e o ano de nascimento e verifique em qual faixa etária ele pertence considerando (abaixo de 10 é criança, de 11 a 17 adolescente, de 18 a 59 adulto, acima de 60 idoso)"
   ]
  },
  {
   "cell_type": "code",
   "execution_count": 15,
   "metadata": {},
   "outputs": [
    {
     "name": "stdout",
     "output_type": "stream",
     "text": [
      "Você é adulto\n"
     ]
    }
   ],
   "source": [
    "ano_atual = int (input ('Digite o ano atual'))\n",
    "nascimento = int (input ('Digite seu ano de nascimento'))\n",
    "if (ano_atual - nascimento) < 10 :\n",
    "    print ('Você é criança')\n",
    "elif (ano_atual - nascimento) >= 11 and (ano_atual - nascimento) <= 17 :\n",
    "    print ('Você é adolescente')\n",
    "elif (ano_atual - nascimento) >= 18 and (ano_atual - nascimento) <= 59 :\n",
    "    print ('Você é adulto')\n",
    "elif (ano_atual - nascimento) >= 60 :\n",
    "    print ('Você é idoso')"
   ]
  },
  {
   "cell_type": "markdown",
   "metadata": {},
   "source": [
    "3 - Pede ao usuário para digitar o nome de um mês e imprime o número de dias naquele mês."
   ]
  },
  {
   "cell_type": "code",
   "execution_count": 18,
   "metadata": {},
   "outputs": [
    {
     "name": "stdout",
     "output_type": "stream",
     "text": [
      "Esse mês tem 31 dias\n"
     ]
    }
   ],
   "source": [
    "mês = input ('Digite um número de um mês:')\n",
    "match mês :\n",
    "    case 'janeiro':\n",
    "        print ('Esse mês tem 31 dias')\n",
    "    case 'fevereiro':\n",
    "        print ('Esse mês tem 28 ou 29 dias')\n",
    "    case 'março':\n",
    "        print ('Esse mês tem 31 dias')\n",
    "    case 'abril' :\n",
    "        print ('Esse mês tem 30 dias')\n",
    "    case 'maio' :\n",
    "        print ('Esse mês tem 31 dias')\n",
    "    case 'junho':\n",
    "        print ('Esse mês tem 30 dias')\n",
    "    case 'julho':\n",
    "        print ('Esse mês tem 31 dias')\n",
    "    case 'agosto':\n",
    "        print ('Esse mês tem 31 dias')\n",
    "    case 'setembro':\n",
    "        print ('Esse mês tem 30 dias')\n",
    "    case 'outubro':\n",
    "        print ('Esse mês tem 31 dias')\n",
    "    case 'novembro':\n",
    "        print ('Esse mês tem 30 dias')\n",
    "    case 'dezembro':\n",
    "        print ('Esse mês tem 31 dias')"
   ]
  },
  {
   "cell_type": "markdown",
   "metadata": {},
   "source": [
    "4 - Pede ao usuário para digitar 2 notas e calcule sua média, e considere a média acima de 7 aprovado, entre 5 e 7, em recuperação, abaixo de 5 reprovado."
   ]
  },
  {
   "cell_type": "code",
   "execution_count": 21,
   "metadata": {},
   "outputs": [
    {
     "name": "stdout",
     "output_type": "stream",
     "text": [
      "Reprovado\n"
     ]
    }
   ],
   "source": [
    "nota1 = float (input ('Digite a primeira nota'))\n",
    "nota2 = float (input ('Digite a segunda nota'))\n",
    "media = (nota1 + nota2) / 2\n",
    "if media > 7 :\n",
    "    print ('Aprovado')\n",
    "elif media >= 5 and media <= 7 :\n",
    "    print ('Recuperação')\n",
    "elif media < 5 :\n",
    "    print ('Reprovado')"
   ]
  },
  {
   "cell_type": "markdown",
   "metadata": {},
   "source": [
    "5 - Pede o salário do funcionário, e calcular o aumento que ele terá, considerando se ganhar até 2000, reajuste de 12%, até 4000, reajuste de 10%, acima de 4000 reajuste de 8%, exibir o novo salário"
   ]
  },
  {
   "cell_type": "code",
   "execution_count": 6,
   "metadata": {},
   "outputs": [
    {
     "name": "stdout",
     "output_type": "stream",
     "text": [
      "Seu salário é R$ 5400.0\n"
     ]
    }
   ],
   "source": [
    "salario = float (input ('Digite o valor do salário:'))\n",
    "if salario <= 2000 :\n",
    "    aumento = ( salario * 12) / 100\n",
    "    novo_salario = salario + aumento\n",
    "    print (f'Seu salário é R$ {novo_salario}')\n",
    "elif salario > 2000 and salario <= 4000 :\n",
    "    aumento = (salario * 10 ) / 100\n",
    "    novo_salario = salario + aumento\n",
    "    print (f'Seu salário é R$ {novo_salario}')\n",
    "elif salario > 4000 :\n",
    "    aumento = (salario * 8 ) / 100\n",
    "    novo_salario = salario + aumento\n",
    "    print (f'Seu salário é R$ {novo_salario}')"
   ]
  },
  {
   "cell_type": "markdown",
   "metadata": {},
   "source": [
    "Desafio 1 - Peça o salário do funcionário e calcule o valor do IRPF e INSS do funcionário e quanto ele irá receber no final do mês, considerando a seguinte tabela:"
   ]
  },
  {
   "cell_type": "code",
   "execution_count": null,
   "metadata": {},
   "outputs": [],
   "source": [
    "salario = float (input ('Digite o valor do salário:'))\n",
    "if salario < 2259 :\n",
    "    desconto_irpf = 0\n",
    "elif salario < 2826.65 :\n",
    "    desconto_irpf = salario * 0.075\n",
    "elif salario <= 3751.05 :\n",
    "    desconto_irpf = salario * 0.15\n",
    "elif salario <= 4664.68 :\n",
    "    desconto_irpf = salario * 0.225\n",
    "else :\n",
    "    desconto_irpf = salario * 0.275\n",
    "\n",
    "#Considerando a tabela do INSS\n",
    "if salario <= 1412 :\n",
    "    desconto_inss = salario * 0.075\n",
    "elif salario <= 2666.68 :\n",
    "    desconto_inss = salario * 0.09\n",
    "elif salario <= 4000.03 :\n",
    "    desconto_inss = salario * 0.12\n",
    "elif salario <= 7786.02 :\n",
    "    desconto_inss = salario * 0.14\n",
    "else :\n",
    "    desconto_inss = 908.85\n",
    "\n",
    "salario_liquido = salario - desconto_irpf\n",
    "print (f'Seu salário líquido será: R$ {salario_liquido:.2f}') "
   ]
  }
 ],
 "metadata": {
  "kernelspec": {
   "display_name": "Python 3",
   "language": "python",
   "name": "python3"
  },
  "language_info": {
   "codemirror_mode": {
    "name": "ipython",
    "version": 3
   },
   "file_extension": ".py",
   "mimetype": "text/x-python",
   "name": "python",
   "nbconvert_exporter": "python",
   "pygments_lexer": "ipython3",
   "version": "3.12.2"
  }
 },
 "nbformat": 4,
 "nbformat_minor": 2
}
