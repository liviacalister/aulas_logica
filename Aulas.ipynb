{
 "cells": [
  {
   "cell_type": "markdown",
   "metadata": {},
   "source": [
    "Aula 16/02/2024 - \n",
    "Comandos de saída (print) / \n",
    "Tipos de dados (string, int, float, bool) / \n",
    "Operações Aritméticas ( + - * / % **)"
   ]
  },
  {
   "cell_type": "code",
   "execution_count": 2,
   "metadata": {},
   "outputs": [
    {
     "name": "stdout",
     "output_type": "stream",
     "text": [
      "Olá, mundo!!\n",
      "Meu primeiro código em Python. Usando aspas duplas\n",
      "Meu primeiro código em Python. Usando aspas simples\n",
      "Para duplicar uma linha pressionei shift + alt + Seta Baixo \n",
      "123\n",
      "70.5\n",
      "True\n",
      "Sesi\n",
      "14\n",
      "86\n",
      "string 10 70.5 False\n",
      "60\n",
      "54\n",
      "1316223135288\n",
      "1609.0\n",
      "1\n",
      "27\n",
      "7.0\n"
     ]
    }
   ],
   "source": [
    "#Este é o meu primeiro código\n",
    "#a função print serve para exibir na tela alguma mensagem\n",
    "print('Olá, mundo!!')\n",
    "\n",
    "print(\"Meu primeiro código em Python. Usando aspas duplas\")\n",
    "print('Meu primeiro código em Python. Usando aspas simples')\n",
    "print('Para duplicar uma linha pressionei shift + alt + Seta Baixo ')\n",
    "\n",
    "print(123)  #Estou exibindo um número inteiro, por isso, não preciso da \"\"\n",
    "print(70.5) #Número float\n",
    "print(True) #Campo lógico (Verdadeiro ou falso) (True ou False)\n",
    "print(\"Sesi\") #Tipo string\n",
    "\n",
    "# Somando 2 números inteiros (o sinal de + para 2 números realiza a SOMA)\n",
    "print(8 + 6)\n",
    "# Porém se forem 2 strings (o sinal de + realiza a CONCATENAÇÃO)\n",
    "print('8' + '6')\n",
    "\n",
    "#Posso imprimir várias informações ao mesmo tempo separando-as por ,\n",
    "print ('string', 10, 70.5, False)\n",
    "\n",
    "print( 10 + 50 )  # + é o operador de SOMA (numero inteiro ou decimal)\n",
    "print( 67 - 13 )  # - é o operador de SUBTRAÇÃO (nº inteiro ou decimal)\n",
    "print( 4214328 * 312321 ) # * é o operador de MULTIPLICAÇÃO\n",
    "print( 4827 / 3 ) # / é o operador de DIVISÃO\n",
    "print( 31 % 3 )   # % é o operador do resto da divisão (MÓDULO)\n",
    "print( 3 ** 3 )   # ** é o operador de exponenciação 3³\n",
    " \n",
    "print ( (8 + 6) / 2) # O Parênteses define a maior ordem de precedência\n"
   ]
  },
  {
   "cell_type": "markdown",
   "metadata": {},
   "source": [
    "Aula 22/02/2024 - Comandos de entrada (input) / Variáveis / Pseudocódigo"
   ]
  },
  {
   "cell_type": "code",
   "execution_count": 36,
   "metadata": {},
   "outputs": [
    {
     "name": "stdout",
     "output_type": "stream",
     "text": [
      "curso\n",
      "Desenvolvimento de Sistemas\n",
      "curso Desenvolvimento de Sistemas\n",
      "Olá Douglas , você tem 36 anos, hoje está fazendo 23.5 ºC\n",
      "Olá Douglas, você tem 36 anos, hoje está fazendo 23.5ºC \n",
      "Douglas 36\n",
      "Ricardo 34\n"
     ]
    },
    {
     "name": "stdout",
     "output_type": "stream",
     "text": [
      "123 3 2.0\n",
      "Seu nome é 123, você tem 3 anos e pesa 2.0kg\n",
      "<class 'str'> <class 'int'> <class 'float'>\n"
     ]
    }
   ],
   "source": [
    "#Declarando minha primeira variável\n",
    "#lemos da seguinte forma:\n",
    "#variavel curso recebe(=) a string \"Desenvolvimento de Sistemas\"\n",
    "#Receba/Armazene o texto \"Desenvolvimento de Sistemas\"\n",
    "curso = \"Desenvolvimento de Sistemas\"\n",
    "#Exiba o valor armazenado\n",
    "print(\"curso\")   # Para imprimir uma variável não se coloca entre \" \"\n",
    "print(curso)     # Jeito correte de utilizar uma variável\n",
    "print(\"curso\", curso )\n",
    "\n",
    "#Criando e atribuindo uma variavel\n",
    "idade = 36\n",
    "temperatura = 23.5\n",
    "nome = \"Douglas\"\n",
    "#Exiba o valor das 3 variáveis\n",
    "#\"Olá Douglas, você tem 36 anos, hoje está fazendo 23.5 ºC \"\n",
    "print(\"Olá\", nome , \", você tem\", idade ,\"anos, hoje está fazendo\", temperatura, \"ºC\")\n",
    "print(f'Olá {nome}, você tem {idade} anos, hoje está fazendo {temperatura}ºC ')\n",
    "\n",
    "#Declarando variáveis lógicas, recebe apenas True ou False\n",
    "chovendo = False\n",
    "dia = True\n",
    "\n",
    "# Nesta linha abaixo ocorrerá um erro pois não existe uma variável com o \n",
    "# nome salario, então não consegue encontrar nada para exibir\n",
    "# NameError: name 'salario' is not defined\n",
    "# print(\"Salario\", salario)\n",
    "\n",
    "#Declarando um constante, diferentemente da variável que posso alterar o valor\n",
    "# na constante não é permitido, declaramos com o nome todo em maiuscula\n",
    "PI = 3.1415\n",
    "\n",
    "print(nome, idade)\n",
    "idade = 34\n",
    "nome = \"Ricardo\"\n",
    "print(nome, idade)\n",
    "\n",
    "#Passo 1: Receber o nome da pessoa\n",
    "#No input sempre recebemos uma string\n",
    "nome = input('Qual é o seu nome?')\n",
    "#Passo 2: Receber a idade da pessoa\n",
    "#Posso converter essa string recebida do tipo inteiro\n",
    "idade = int(input('Qual é a sua idade?'))\n",
    "#Passo 3: Receber o peso da pessoa\n",
    "#Posso converter essa string recebida do tipo float\n",
    "peso = float(input('Qual é o seu peso?'))\n",
    "#Passo 4: Exibir o noe, a idade e o peso\n",
    "print (nome, idade, peso) \n",
    "print (f'Seu nome é {nome}, você tem {idade} anos e pesa {peso}kg')\n",
    "\n",
    "#Exibindo os tipos das variáveis\n",
    "#Tudo o que recebemos do input é do tipo string\n",
    "print(type(nome), type(idade), type(peso))\n"
   ]
  },
  {
   "cell_type": "markdown",
   "metadata": {},
   "source": [
    "23/02/2024 - Operações com variáveis"
   ]
  },
  {
   "cell_type": "code",
   "execution_count": 15,
   "metadata": {},
   "outputs": [
    {
     "name": "stdout",
     "output_type": "stream",
     "text": [
      "60.0\n",
      "<class 'float'>\n"
     ]
    }
   ],
   "source": [
    "#Receber o primeiro número\n",
    "numero1 = float(input('Digite o primeiro número: '))\n",
    "#Receber o segundo número\n",
    "numero2 = float(input('Digite o segundo número: '))\n",
    "#Receber o terceiro número\n",
    "numero3 = float(input('Digite o terceiro número:'))\n",
    "#Soma o primeiro número + o segundo número\n",
    "soma = numero1 + numero2 + numero3\n",
    "#Exibir o resultado\n",
    "print(type(soma))\n",
    "print(soma)\n"
   ]
  },
  {
   "cell_type": "code",
   "execution_count": 18,
   "metadata": {},
   "outputs": [
    {
     "name": "stdout",
     "output_type": "stream",
     "text": [
      "9.0\n"
     ]
    }
   ],
   "source": [
    "n1 = float(input('Digite o primeiro número:'))\n",
    "n2 = float(input('Digite o segundo número:'))\n",
    "resultado = n1 * n2\n",
    "print (resultado)\n"
   ]
  },
  {
   "cell_type": "code",
   "execution_count": 19,
   "metadata": {},
   "outputs": [
    {
     "name": "stdout",
     "output_type": "stream",
     "text": [
      "2310.0\n",
      "Você obteve R$ 190.0, e pagou R$ 2310.0\n"
     ]
    }
   ],
   "source": [
    "preco = float(input('Qual o valor do celular?'))\n",
    "desconto = float(input('Qual o valor do desconto?'))\n",
    "preco = preco - desconto  \n",
    "print(preco)\n",
    "print(f'Você obteve R$ {desconto}, e pagou R$ {preco}')"
   ]
  },
  {
   "cell_type": "code",
   "execution_count": 29,
   "metadata": {},
   "outputs": [
    {
     "name": "stdout",
     "output_type": "stream",
     "text": [
      "2.0\n",
      "4.0\n",
      "120.0\n",
      "O valor final é 120.0\n",
      "O valor final é  120.0\n"
     ]
    }
   ],
   "source": [
    "numero = 4 / 2\n",
    "print (numero)\n",
    "numero = numero ** 2\n",
    "print (numero)\n",
    "numero = numero * (50 - 20)\n",
    "print (numero)\n",
    "print (f'O valor final é {numero}')\n",
    "print ('O valor final é ', numero)"
   ]
  },
  {
   "cell_type": "code",
   "execution_count": 30,
   "metadata": {},
   "outputs": [
    {
     "name": "stdout",
     "output_type": "stream",
     "text": [
      "Você deve cobrar R$ 12000\n"
     ]
    }
   ],
   "source": [
    "horas_por_dia = 8\n",
    "dias_totais = 15\n",
    "horas_trabalho = horas_por_dia * dias_totais\n",
    "custo_hora = 100\n",
    "custo_total = horas_trabalho * custo_hora\n",
    "print(f'Você deve cobrar R$ {custo_total}')"
   ]
  },
  {
   "cell_type": "markdown",
   "metadata": {},
   "source": [
    "29/02/2024 - Operadores relacionais e estrutura condicional"
   ]
  },
  {
   "cell_type": "code",
   "execution_count": 1,
   "metadata": {},
   "outputs": [
    {
     "name": "stdout",
     "output_type": "stream",
     "text": [
      "a > b ? False\n",
      "a == b ? False\n",
      "a != b ? True\n",
      "a > 2 ? False\n",
      "a >= 2 ? True\n"
     ]
    }
   ],
   "source": [
    "a = 2\n",
    "b = 3\n",
    "print (f'a > b ? {a > b}')\n",
    "print (f'a == b ? {a == b}')\n",
    "print (f'a != b ? {a != b}')\n",
    "print (f'a > 2 ? {a > 2}')\n",
    "print (f'a >= 2 ? {a >= 2}')"
   ]
  },
  {
   "cell_type": "code",
   "execution_count": 4,
   "metadata": {},
   "outputs": [
    {
     "name": "stdout",
     "output_type": "stream",
     "text": [
      "Posso entrar\n"
     ]
    }
   ],
   "source": [
    "tenho_ingresso = True\n",
    "if tenho_ingresso == True :\n",
    "    print ('Posso entrar')\n",
    "else:\n",
    "    print ('Vá comprar')"
   ]
  },
  {
   "cell_type": "code",
   "execution_count": null,
   "metadata": {},
   "outputs": [],
   "source": [
    "# Passo 1: Receber o valor da idade\n",
    "idade = int(input ('qual sua idade?'))\n",
    "# Passo 2: Verificar SE é maior ou igual a 18 ENTÃO\n",
    "if idade >= 18 : \n",
    "# Passo 3: Se for Exibir \"Maior idade\" \n",
    "    print(\"Maior idade\")\n",
    "else : \n",
    "    print('Você é menor!')\n",
    "print ('FIM')"
   ]
  },
  {
   "cell_type": "markdown",
   "metadata": {},
   "source": [
    "01/03/2024 - Operadores Lógicos e Estrutura condicional"
   ]
  },
  {
   "cell_type": "code",
   "execution_count": null,
   "metadata": {},
   "outputs": [],
   "source": [
    "a = 2\n",
    "b = 3\n",
    "c = 5 \n",
    "#      False    e   False\n",
    "print ((a > 2) and (b < 2)) # False \n",
    "\n",
    "#      False   ou  False\n",
    "print ((a > 2) or (b < 2)) # True\n",
    "\n",
    "#      False   ou  True\n",
    "print ((a > 2) or (b < 5)) # True\n",
    "\n",
    "idade = 18\n",
    "#      False      ou    True\n",
    "print (idade > 18 or idade == 18) # True\n",
    "#      idade >= 18"
   ]
  },
  {
   "cell_type": "code",
   "execution_count": 5,
   "metadata": {},
   "outputs": [
    {
     "name": "stdout",
     "output_type": "stream",
     "text": [
      "Seu IMC é 23.4\n",
      "Peso ideial!\n"
     ]
    }
   ],
   "source": [
    "altura = float (input ('Digite sua altura:'))\n",
    "peso = float (input ('Digite seu peso:'))\n",
    "imc = peso / (altura ** 2) \n",
    "print (f'Seu IMC é {imc:.1f}')\n",
    "if imc < 18.5 :\n",
    "    print ('Abaixo do peso ideial!')\n",
    "elif imc > 18.5 and imc <= 24.9 : \n",
    "    print ('Peso ideial!')\n",
    "elif imc >= 25 and imc <= 29.9 :\n",
    "    print ('Sobrepeso')\n",
    "else: \n",
    "    print ('Não está abaixo do peso')"
   ]
  },
  {
   "cell_type": "code",
   "execution_count": null,
   "metadata": {},
   "outputs": [],
   "source": [
    "lado1 = input ('Digite o lado 1')\n",
    "lado2 = input ('Digite o lado 2')\n",
    "lado3 = input ('Digite o lado 3')\n",
    "if (lado1 == lado2) and (lado2 == lado3):\n",
    "    print ('Triângulo Equilátero')\n",
    "\n",
    "elif (lado1 != lado2) and (lado2 != lado3) and (lado1 != lado3):\n",
    "    print ('Triângulo Escaleno')\n",
    "\n",
    "else:\n",
    "    print ('Triângulo Isósceles')"
   ]
  },
  {
   "cell_type": "code",
   "execution_count": null,
   "metadata": {},
   "outputs": [],
   "source": [
    "letra = input ('Digite uma letra:')\n",
    "if letra == 'a' or letra == 'e' or letra == 'i' or letra == 'o' or letra == 'u':\n",
    "    print(f'A letra {letra} é uma vogal')\n",
    "elif letra == '1' or '2' or '3' or '4' or '5' or '6':\n",
    "    print (f'a letra {letra} é um número')\n",
    "else:\n",
    "    print (f'A letra {letra} não é uma vogal')"
   ]
  },
  {
   "cell_type": "markdown",
   "metadata": {},
   "source": [
    "07/03/2024 - Estrutura condicional aninhada / match case"
   ]
  },
  {
   "cell_type": "code",
   "execution_count": 5,
   "metadata": {},
   "outputs": [
    {
     "name": "stdout",
     "output_type": "stream",
     "text": [
      "Você é obrigado a votar\n"
     ]
    }
   ],
   "source": [
    "idade = int (input ('Digite sua idade:'))\n",
    "if idade >= 18 and idade <= 70 :\n",
    "    print ('Você é obrigado a votar')\n",
    "else :\n",
    "    if idade < 16 :\n",
    "        print ('Você não pode votar')\n",
    "    else: \n",
    "        print ('Seu voto é facultativo')"
   ]
  },
  {
   "cell_type": "code",
   "execution_count": 12,
   "metadata": {},
   "outputs": [
    {
     "name": "stdout",
     "output_type": "stream",
     "text": [
      "operador inválido\n"
     ]
    }
   ],
   "source": [
    "numero1 = int (input ('Digite o primeiro numero'))\n",
    "numero2 = int (input ('Digite o segundo número:'))\n",
    "operador = input ('Digite um operador')\n",
    "match operador :\n",
    "    case '+': # if operador == case '+'\n",
    "        print (f'{numero1} {operador} {numero2} = {numero1+numero2}')\n",
    "    case '-':\n",
    "        print (f'{numero1} {operador} {numero2} = {numero1-numero2}')\n",
    "    case '*':\n",
    "        print (f'{numero1} * {numero2} = {numero1*numero2}')\n",
    "    case '/':\n",
    "        print (f'{numero1} / {numero2} = {numero1/numero1}')\n",
    "    case _:\n",
    "        print (f'operador inválido')"
   ]
  },
  {
   "cell_type": "markdown",
   "metadata": {},
   "source": [
    "08/03/2024 - Laço de repetição - While"
   ]
  },
  {
   "cell_type": "code",
   "execution_count": null,
   "metadata": {},
   "outputs": [],
   "source": [
    "x = 1\n",
    "while x <= 50 :\n",
    "    print ('Eu vou prestar atenção na aula')\n",
    "    x = x + 1\n",
    "print ('FIM')"
   ]
  },
  {
   "cell_type": "code",
   "execution_count": 3,
   "metadata": {},
   "outputs": [
    {
     "name": "stdout",
     "output_type": "stream",
     "text": [
      "10\n",
      "9\n",
      "8\n",
      "7\n",
      "6\n",
      "5\n",
      "4\n",
      "3\n",
      "2\n",
      "1\n",
      "0\n",
      "Feliz ano novo 🎇🎉\n"
     ]
    }
   ],
   "source": [
    "import time #Importando uma biblioteca de tempo\n",
    "x = 10\n",
    "while x >= 0 :\n",
    "    print(x)\n",
    "    time.sleep(1.0) #Dando uma pausa de 1s na execução\n",
    "    x = x - 1\n",
    "print('Feliz ano novo 🎇🎉')"
   ]
  },
  {
   "cell_type": "code",
   "execution_count": 6,
   "metadata": {},
   "outputs": [
    {
     "name": "stdout",
     "output_type": "stream",
     "text": [
      "Seja bem vindo, livia\n",
      "Seja bem vindo, sair\n"
     ]
    }
   ],
   "source": [
    "texto = ''\n",
    "while texto != 'sair' :\n",
    "    texto = input('Digite seu nome (\"sair\" para terminar):')\n",
    "    print(f'Seja bem vindo, {texto}')"
   ]
  },
  {
   "cell_type": "code",
   "execution_count": 7,
   "metadata": {},
   "outputs": [
    {
     "name": "stdout",
     "output_type": "stream",
     "text": [
      "Você está preso tentando hackear a rede\n"
     ]
    }
   ],
   "source": [
    "senha_senai = '12345'\n",
    "nr_tentativas = 0 \n",
    "while True :\n",
    "    senha = input('Qual é a senha?🤔 \"Desisto\" para sair 🔒 ')\n",
    "    if senha == senha_senai :\n",
    "        print('Você hackeou a rede')\n",
    "        break\n",
    "    elif senha == 'Desisto':\n",
    "        break\n",
    "    else:\n",
    "        nr_tentativas = nr_tentativas + 1\n",
    "        if nr_tentativas == 3 :\n",
    "            print('Você está preso tentando hackear a rede')\n",
    "            break\n",
    "\n",
    "print('FIM')"
   ]
  },
  {
   "cell_type": "markdown",
   "metadata": {},
   "source": [
    "21/03/2024 - Revisão de While"
   ]
  },
  {
   "cell_type": "code",
   "execution_count": 1,
   "metadata": {},
   "outputs": [
    {
     "name": "stdout",
     "output_type": "stream",
     "text": [
      "FIM\n"
     ]
    }
   ],
   "source": [
    "resp = 'S'\n",
    "while resp == 'S' :\n",
    "    resp = input('Deseja continuar? [S/N]')\n",
    "print('FIM')"
   ]
  },
  {
   "cell_type": "code",
   "execution_count": 2,
   "metadata": {},
   "outputs": [
    {
     "name": "stdout",
     "output_type": "stream",
     "text": [
      "Valor total R$ 12.00 Qtde Produto 1\n"
     ]
    }
   ],
   "source": [
    "soma = 0\n",
    "qtde = 0\n",
    "while True :\n",
    "    valor = float(input('Digite o valor do produto [-1 para encerrar]'))\n",
    "    if valor == -1 :\n",
    "        break\n",
    "    soma = valor + soma\n",
    "    qtde = qtde + 1\n",
    "print (f'Valor total R$ {soma:.2f} Qtde Produto {qtde}') "
   ]
  },
  {
   "cell_type": "code",
   "execution_count": null,
   "metadata": {},
   "outputs": [],
   "source": [
    "#Importando a biblioteca de números aleatórios\n",
    "import random\n",
    "#Sorteando um número de 1 a 100\n",
    "nrSorteado = random.randint(1, 100)\n",
    "\n",
    "print('=-=-=-=-=-=-=-=-=-=-=-=-=-=-=-=-=-=-=-=')\n",
    "print('🤔 JOGO DA ADIVINHAÇÃO 🤔')\n",
    "print('=-=-=-=-=-=-=-=-=-=-=-=-=-=-=-=-=-=-=-=')\n",
    "\n",
    "acertou = False\n",
    "while acertou == False :\n",
    "    chute = int(input(' 🕵️‍♀️Digite um número entre 1 e 100:'))\n",
    "    if chute == nrSorteado :\n",
    "        print (f'Você chutou {chute}. Parabéns você acertou')\n",
    "        acertou = True\n",
    "    elif chute > nrSorteado :\n",
    "        print (f'Você chutou {chute}. Tente um número menor')\n",
    "    else :\n",
    "        print (f'Você chutou {chute}. Tente um número maior')\n",
    "print ('FIM')"
   ]
  },
  {
   "cell_type": "markdown",
   "metadata": {},
   "source": [
    "22/03/2024 - For"
   ]
  },
  {
   "cell_type": "code",
   "execution_count": 3,
   "metadata": {},
   "outputs": [
    {
     "name": "stdout",
     "output_type": "stream",
     "text": [
      "1\n",
      "2\n",
      "3\n",
      "4\n",
      "5\n",
      "6\n",
      "7\n",
      "8\n",
      "9\n",
      "10\n"
     ]
    }
   ],
   "source": [
    "for x in range (10):\n",
    "    x = x + 1 #Caso queira que ele não comece do 0\n",
    "    print(x)"
   ]
  },
  {
   "cell_type": "code",
   "execution_count": null,
   "metadata": {},
   "outputs": [],
   "source": [
    "print ('Entregando os notebooks')\n",
    "for nr in range (32) :\n",
    "    nr = nr + 1 \n",
    "    print (nr)\n",
    "    nome = input(f'Quem é o n° {nr}?')\n",
    "    presente = input(F'O(a) {nome} veio para a escola? [S/N]')\n",
    "    if presente == 'S' :\n",
    "        print(f'Pegar o notebook {nr}')\n",
    "        print(f'Pegar o mouse {nr}')\n",
    "        print(f'Levar o notebook até o(a) {nome}')\n",
    "    else :\n",
    "        print(f'Não pegar o notebook {nr}')\n",
    "print(\"Começar a aula\")"
   ]
  },
  {
   "cell_type": "code",
   "execution_count": 15,
   "metadata": {},
   "outputs": [
    {
     "name": "stdout",
     "output_type": "stream",
     "text": [
      "5\n",
      "6\n",
      "7\n",
      "8\n",
      "9\n"
     ]
    }
   ],
   "source": [
    "for x in range (5, 10) :\n",
    "    print(x)"
   ]
  },
  {
   "cell_type": "code",
   "execution_count": 16,
   "metadata": {},
   "outputs": [
    {
     "name": "stdout",
     "output_type": "stream",
     "text": [
      "5\n",
      "7\n",
      "9\n",
      "11\n",
      "13\n",
      "15\n",
      "17\n",
      "19\n",
      "21\n",
      "23\n",
      "25\n",
      "27\n",
      "29\n"
     ]
    }
   ],
   "source": [
    "for x in range (5, 30, 2) :\n",
    "    print (x)"
   ]
  },
  {
   "cell_type": "code",
   "execution_count": 12,
   "metadata": {},
   "outputs": [
    {
     "name": "stdout",
     "output_type": "stream",
     "text": [
      "8 x 0 = 0\n",
      "8 x 1 = 8\n",
      "8 x 2 = 16\n",
      "8 x 3 = 24\n",
      "8 x 4 = 32\n",
      "8 x 5 = 40\n",
      "8 x 6 = 48\n",
      "8 x 7 = 56\n",
      "8 x 8 = 64\n",
      "8 x 9 = 72\n",
      "8 x 10 = 80\n"
     ]
    }
   ],
   "source": [
    "n = 8 #ou n = int(input('Digite o nr:in range (11)\n",
    "for x in range (11) :\n",
    "    print (f'{n} x {x} = {n*x}')"
   ]
  },
  {
   "cell_type": "code",
   "execution_count": 13,
   "metadata": {},
   "outputs": [
    {
     "name": "stdout",
     "output_type": "stream",
     "text": [
      "S\n",
      "E\n",
      "S\n",
      "I\n",
      "/\n",
      "S\n",
      "E\n",
      "N\n",
      "A\n",
      "I\n",
      "FIM\n"
     ]
    }
   ],
   "source": [
    "for letra in 'SESI/SENAI' :\n",
    "    print(letra)\n",
    "print('FIM')"
   ]
  },
  {
   "cell_type": "code",
   "execution_count": 14,
   "metadata": {},
   "outputs": [
    {
     "name": "stdout",
     "output_type": "stream",
     "text": [
      "0\n",
      "1\n",
      "2\n",
      "3\n",
      "4\n",
      "5\n",
      "6\n",
      "7\n",
      "8\n",
      "9\n"
     ]
    }
   ],
   "source": [
    "for x in range (100) :\n",
    "    if x == 10 :\n",
    "        break\n",
    "    print(x)"
   ]
  },
  {
   "cell_type": "markdown",
   "metadata": {},
   "source": [
    "28/03/2024 - Váriaveis Compostas - Vetores / Listas"
   ]
  },
  {
   "cell_type": "code",
   "execution_count": 3,
   "metadata": {},
   "outputs": [
    {
     "name": "stdout",
     "output_type": "stream",
     "text": [
      "['Maçâ', 'Banana', 'Abacaxi', 'Uva']\n",
      "Banana\n"
     ]
    }
   ],
   "source": [
    "frutas = ['Maçâ', 'Banana' , 'Abacaxi' , 'Uva']\n",
    "print(frutas)\n",
    "print(frutas[1])\n",
    "\n",
    "#Declaração de uma lista vazia\n",
    "lista_vazia = []\n",
    "\n",
    "#Declaração de uma lista de números\n",
    "numeros = [5, 8, 10, 40, 3]\n",
    "\n",
    "#Declaração de uma lista de strings\n",
    "nomes = ['Ana', 'João' , 'Maria']\n",
    "\n",
    "#Declaração de uma lista mista\n",
    "lista_mista = [1, 'teste', True, 3.5]"
   ]
  },
  {
   "cell_type": "code",
   "execution_count": null,
   "metadata": {},
   "outputs": [],
   "source": [
    "frutas = ['Maçâ', 'Banana' , 'Abacaxi' , 'Uva']\n",
    "#Alterando o valor de um item da lista\n",
    "frutas[3] = 'Melancia'\n",
    "print(frutas)\n",
    "\n",
    "#Incluindo um novo item no final da lista\n",
    "frutas.append('Laranja')\n",
    "print(frutas)\n",
    "\n",
    "#Incluindo um novo item em uma posição especifica \n",
    "frutas.insert(2, 'Morango')\n",
    "print(frutas)\n",
    "\n",
    "#Excluindo item da lista\n",
    "#del frutas[3]\n",
    "#frutas.pop(3)\n",
    "frutas.remove('Abacaxi')\n",
    "#Excluindo ultimo item da lista \n",
    "frutas.pop(2)\n",
    "print(frutas)"
   ]
  },
  {
   "cell_type": "code",
   "execution_count": null,
   "metadata": {},
   "outputs": [],
   "source": [
    "frutas = ['Maçã', 'Banana', 'Morango', 'Abacaxi' , 'Melancia' , 'Laranja' , 'Uva' ]\n",
    "print(frutas[4]) #Posição especifica\n",
    "print(frutas[0:4]) #Da posição 0 pegar 4 itens\n",
    "print(frutas[1:]) #Da posição 1 até o ultimo\n",
    "print(frutas[-1:]) #Nr de itens do fim pro inicio\n",
    "print(len(frutas)) #Total de itens na lista"
   ]
  },
  {
   "cell_type": "code",
   "execution_count": null,
   "metadata": {},
   "outputs": [],
   "source": [
    "#Ordenando lista em ordem crescente\n",
    "frutas.sort()\n",
    "print(frutas)\n",
    "\n",
    "#Ordenando lista em ordem decrescente\n",
    "frutas.reverse()\n",
    "print(frutas)"
   ]
  },
  {
   "cell_type": "markdown",
   "metadata": {},
   "source": [
    "Aula 04/04/2024 - Iteração em listas"
   ]
  },
  {
   "cell_type": "code",
   "execution_count": 1,
   "metadata": {},
   "outputs": [
    {
     "name": "stdout",
     "output_type": "stream",
     "text": [
      "É uma vogal\n"
     ]
    }
   ],
   "source": [
    "#Criando uma lista de vogais\n",
    "vogais = ['a' , 'e' , 'i' , 'o' , 'u']\n",
    "#Criando uma lista de consoantes\n",
    "consoantes = ['b' , 'c' , 'd' , 'f' , 'g' , 'h', 'j' , 'k' , 'l' , 'm' , 'n' , 'p' , 'q' , 'r' , 's' , 't' , 'v', 'w' , 'x' , 'y' , 'z']\n",
    "#Recebendo um caractere digitado pelo usuario\n",
    "letra = input ('Informe um caracterer')\n",
    "# o método .lower() deixa todas as letras digitadas como minúsculas\n",
    "# o método .upper() deixa todas as letras digitadas como maiusculas\n",
    "\n",
    "# lemos da seguinte forma:\n",
    "# SE a letra em MINUSCULA ESTIVER na lista de vogais ENTÃO\n",
    "if letra.lower() in vogais :\n",
    "    print (f'{letra} é uma vogal')\n",
    "elif letra.lower() in consoantes :\n",
    "    print(f'{letra} é uma consoante')\n",
    "else :\n",
    "    print (f'{letra} não é uma letra')"
   ]
  },
  {
   "cell_type": "code",
   "execution_count": 2,
   "metadata": {},
   "outputs": [
    {
     "name": "stdout",
     "output_type": "stream",
     "text": [
      "Pelé\n",
      "Maradona\n",
      "Messi\n",
      "Cristiano Ronaldo\n"
     ]
    }
   ],
   "source": [
    "listaNomes = ['Pelé' , 'Maradona' , 'Messi' , 'Cristiano Ronaldo']\n",
    "for nome in listaNomes :\n",
    "    print (nome)"
   ]
  },
  {
   "cell_type": "code",
   "execution_count": null,
   "metadata": {},
   "outputs": [],
   "source": [
    "listaNr = [4, 6, 2, 5, 9]\n",
    "soma = 0\n",
    "for nr in listaNr :\n",
    "    soma = soma + nr \n",
    "print (soma)\n",
    "\n",
    "#Essa função que escrevemos faza mesma coisa que\n",
    "soma = sum(listaNr)\n",
    "print(soma)"
   ]
  },
  {
   "cell_type": "code",
   "execution_count": 3,
   "metadata": {},
   "outputs": [
    {
     "name": "stdout",
     "output_type": "stream",
     "text": [
      "A fruta Maçã está na posição 0\n",
      "A fruta Banana está na posição 1\n",
      "A fruta Abacaxi está na posição 2\n",
      "A fruta Uva está na posição 3\n"
     ]
    }
   ],
   "source": [
    "listaFrutas = ['Maçã' , 'Banana' , 'Abacaxi' , 'Uva']\n",
    "for pos, fruta in enumerate (listaFrutas) :\n",
    "    print (f'A fruta {fruta} está na posição {pos}')"
   ]
  },
  {
   "cell_type": "code",
   "execution_count": null,
   "metadata": {},
   "outputs": [],
   "source": [
    "produtos = 'Celular, Notebook, TV, Tablet, Headset'\n",
    "listaProdutos = produtos.split(',')\n",
    "for produtos in listaProdutos :\n",
    "    print (produtos)"
   ]
  },
  {
   "cell_type": "code",
   "execution_count": null,
   "metadata": {},
   "outputs": [],
   "source": [
    "palavra = 'SENAI'\n",
    "for letra in palavra :\n",
    "    print (letra)\n",
    "    print (palavra[0])\n",
    "    print (palavra[-1])"
   ]
  },
  {
   "cell_type": "code",
   "execution_count": 1,
   "metadata": {},
   "outputs": [
    {
     "name": "stdout",
     "output_type": "stream",
     "text": [
      "1° Pizza\n",
      "2° Hamburguer\n",
      "3° Sushi\n"
     ]
    }
   ],
   "source": [
    "#Criando uma lista vazia\n",
    "listaComidas = []\n",
    "\n",
    "#Laço de repetição sem um nr de execução definada\n",
    "while True :\n",
    "    #Recebendo informação do usuário e armazenando em uma variável\n",
    "    comidas = input ('Digite uma comida que você mais gosta:')\n",
    "    \n",
    "    #Inserindo o valor da variável no final da nossa lista\n",
    "    listaComidas.append(comidas)\n",
    "    \n",
    "    #Obtendo a resposta do usuário se deseja continuar\n",
    "    resp = input('Deseja continuar? [S/N]')\n",
    "    \n",
    "    #Verificando condição da resposta dele, se for N ou n sair do laço\n",
    "    if resp in 'Nn' :\n",
    "        #Parando o laço de repetição while\n",
    "        break\n",
    "#Fora do while - após finalizar sua execução e encontrar o break\n",
    "#Laço de repetição para exibir os itens e suas posições\n",
    "for pos, comidas in enumerate(listaComidas) :\n",
    "    #Exibindo as variáveis de cada item da lista\n",
    "    print(f'{pos+1}° {comidas}')"
   ]
  },
  {
   "cell_type": "markdown",
   "metadata": {},
   "source": [
    "11/04/2024 - Funções"
   ]
  },
  {
   "cell_type": "code",
   "execution_count": 1,
   "metadata": {},
   "outputs": [
    {
     "name": "stdout",
     "output_type": "stream",
     "text": [
      "--------------------\n",
      "SESI / SENAI\n",
      "--------------------\n"
     ]
    }
   ],
   "source": [
    "print ('-' * 20)\n",
    "print ('SESI / SENAI')\n",
    "print ('-' * 20)"
   ]
  },
  {
   "cell_type": "code",
   "execution_count": 2,
   "metadata": {},
   "outputs": [
    {
     "name": "stdout",
     "output_type": "stream",
     "text": [
      "--------------------\n",
      "SESI / SENAI\n"
     ]
    }
   ],
   "source": [
    "def linha() :\n",
    "    print ('-' * 20)\n",
    "linha()\n",
    "print('SESI / SENAI')"
   ]
  },
  {
   "cell_type": "code",
   "execution_count": 14,
   "metadata": {},
   "outputs": [
    {
     "name": "stdout",
     "output_type": "stream",
     "text": [
      "--------------------\n",
      "SESI / SENAI\n",
      "--------------------\n"
     ]
    }
   ],
   "source": [
    "def cabecalho() :\n",
    "    print ('-' * 20)\n",
    "    print ('SESI / SENAI')\n",
    "    print ('-' * 20)\n",
    "cabecalho()"
   ]
  },
  {
   "cell_type": "code",
   "execution_count": 4,
   "metadata": {},
   "outputs": [
    {
     "name": "stdout",
     "output_type": "stream",
     "text": [
      "livia tenha um bom dia.\n",
      "livia tenha um bom dia.\n",
      "livia tenha um bom dia.\n"
     ]
    }
   ],
   "source": [
    "nome = input('Digite seu nome:')\n",
    "def saudaçao() :\n",
    "    print (f'{nome} tenha um bom dia.')\n",
    "saudaçao()\n",
    "saudaçao()\n",
    "saudaçao() \n"
   ]
  },
  {
   "cell_type": "code",
   "execution_count": 5,
   "metadata": {},
   "outputs": [
    {
     "name": "stdout",
     "output_type": "stream",
     "text": [
      "--------------------\n",
      "SESI\n",
      "--------------------\n",
      "--------------------\n",
      "SENAI\n",
      "--------------------\n",
      "--------------------\n",
      "ESCOLA\n",
      "--------------------\n"
     ]
    }
   ],
   "source": [
    "def cabecalho(texto) :\n",
    "    linha()\n",
    "    print (texto)\n",
    "    linha()\n",
    "cabecalho('SESI')\n",
    "cabecalho('SENAI')\n",
    "cabecalho('ESCOLA')"
   ]
  },
  {
   "cell_type": "code",
   "execution_count": 7,
   "metadata": {},
   "outputs": [
    {
     "name": "stdout",
     "output_type": "stream",
     "text": [
      "A soma de 10 + 5 é 15\n",
      "A soma de 20 + 25 é 45\n"
     ]
    }
   ],
   "source": [
    "def soma(n1, n2) :\n",
    "    res = n1 + n2\n",
    "    print(f'A soma de {n1} + {n2} é {res}')\n",
    "soma(10, 5)\n",
    "soma(20, 25)"
   ]
  },
  {
   "cell_type": "code",
   "execution_count": 8,
   "metadata": {},
   "outputs": [
    {
     "name": "stdout",
     "output_type": "stream",
     "text": [
      "O nr 9 é impar\n",
      "O nr 4 é par\n"
     ]
    }
   ],
   "source": [
    "def Parimpar(numero) :\n",
    "    if numero % 2 == 0 :\n",
    "        print(f'O nr {numero} é par')\n",
    "    else:\n",
    "        print(f'O nr {numero} é impar')\n",
    "Parimpar(9)\n",
    "Parimpar(4)\n",
    "\n"
   ]
  },
  {
   "cell_type": "code",
   "execution_count": 11,
   "metadata": {},
   "outputs": [
    {
     "name": "stdout",
     "output_type": "stream",
     "text": [
      "9.0\n",
      "6.0\n"
     ]
    }
   ],
   "source": [
    "def media(n1, n2):\n",
    "    res = (n1 + n2) / 2\n",
    "    return(res)\n",
    "resultado_media = media(10,8)\n",
    "print(resultado_media)\n",
    "print(media(10,2))"
   ]
  },
  {
   "cell_type": "code",
   "execution_count": 13,
   "metadata": {},
   "outputs": [
    {
     "name": "stdout",
     "output_type": "stream",
     "text": [
      "25/12/1987\n",
      "27/2/1989\n"
     ]
    }
   ],
   "source": [
    "def FormatarData(dia, mês, ano):\n",
    "    data = f'{dia}/{mês}/{ano}'\n",
    "    return (data)\n",
    "print(FormatarData(25, 12, 1987))\n",
    "print(FormatarData(27, 2, 1989))"
   ]
  },
  {
   "cell_type": "markdown",
   "metadata": {},
   "source": [
    "12/04/2024 - Escopo de váriaveis (Variável local e global)"
   ]
  },
  {
   "cell_type": "code",
   "execution_count": 2,
   "metadata": {},
   "outputs": [
    {
     "name": "stdout",
     "output_type": "stream",
     "text": [
      "Valor ANTES da função SENAI\n",
      "Valor dentro da função SESI\n",
      "Valor DEPOIS da função SENAI\n"
     ]
    }
   ],
   "source": [
    "def NomeEscola() :\n",
    "    escola = 'SESI'\n",
    "    print(f'Valor dentro da função {escola}')\n",
    "\n",
    "escola = 'SENAI'\n",
    "print(f'Valor ANTES da função {escola}')\n",
    "NomeEscola()\n",
    "print(f'Valor DEPOIS da função {escola}')"
   ]
  },
  {
   "cell_type": "code",
   "execution_count": 4,
   "metadata": {},
   "outputs": [
    {
     "name": "stdout",
     "output_type": "stream",
     "text": [
      "Valor ANTES da função SENAI\n",
      "Valor dentro da função SESI\n",
      "Valor DEPOIS da função SESI\n"
     ]
    }
   ],
   "source": [
    "def NomeEscola():\n",
    "    #Caso eu queira atualizar o conteúdo da váriavel\n",
    "    #Preciso escrever que ela é global\n",
    "    global escola\n",
    "    escola = 'SESI' #Alterando o valor da váriavel global\n",
    "    print(f'Valor dentro da função {escola}')\n",
    "\n",
    "escola = 'SENAI'\n",
    "print(f'Valor ANTES da função {escola}')\n",
    "NomeEscola()\n",
    "print(f'Valor DEPOIS da função {escola}')"
   ]
  },
  {
   "cell_type": "code",
   "execution_count": 5,
   "metadata": {},
   "outputs": [
    {
     "name": "stdout",
     "output_type": "stream",
     "text": [
      "fora da função 10\n",
      "Dentro da função 1\n",
      "fora da função 10\n"
     ]
    }
   ],
   "source": [
    "x = 10 # x é uma váriavel global\n",
    "# Podemos acessar x fora de uma função também \n",
    "print('fora da função', x)\n",
    "\n",
    "def minhaFuncao() :\n",
    "    '''\n",
    "    Aqui posso escrever a descrição do que faz a minha função\n",
    "    '''\n",
    "    global x #Dizendo que usaremos a variavel x global \n",
    "    x = 0 # <- variavel local\n",
    "    x = x + 1\n",
    "    print('Dentro da função', x)\n",
    "\n",
    "minhaFuncao()\n",
    "print('fora da função', x)"
   ]
  }
 ],
 "metadata": {
  "kernelspec": {
   "display_name": "Python 3",
   "language": "python",
   "name": "python3"
  },
  "language_info": {
   "codemirror_mode": {
    "name": "ipython",
    "version": 3
   },
   "file_extension": ".py",
   "mimetype": "text/x-python",
   "name": "python",
   "nbconvert_exporter": "python",
   "pygments_lexer": "ipython3",
   "version": "3.12.3"
  }
 },
 "nbformat": 4,
 "nbformat_minor": 2
}
