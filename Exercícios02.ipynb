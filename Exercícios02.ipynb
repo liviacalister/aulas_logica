{
 "cells": [
  {
   "cell_type": "markdown",
   "metadata": {},
   "source": [
    "1 - Leia 2 notas de um aluno, calcule a média e imprima aprovado ou reprovado (para ser aprovado a média deve ser no minimo 7)"
   ]
  },
  {
   "cell_type": "code",
   "execution_count": 2,
   "metadata": {},
   "outputs": [
    {
     "name": "stdout",
     "output_type": "stream",
     "text": [
      "Reprovado\n"
     ]
    }
   ],
   "source": [
    "nota1 = float(input ('Digite a nota 1:'))\n",
    "nota2 = float(input ('Digite anota 2:'))\n",
    "media = (nota1 + nota2) / 2\n",
    "if media >= 7 :\n",
    "    print ('Aprovado')\n",
    "else: \n",
    "    print ('Reprovado')"
   ]
  },
  {
   "cell_type": "markdown",
   "metadata": {},
   "source": [
    "2 - Peça dois números ao usuário e mostre qual o maior e qual o menor"
   ]
  },
  {
   "cell_type": "code",
   "execution_count": 3,
   "metadata": {},
   "outputs": [
    {
     "name": "stdout",
     "output_type": "stream",
     "text": [
      "1 é menor que 2\n"
     ]
    }
   ],
   "source": [
    "numero1 = input ('Digite o primeiro número:')\n",
    "numero2 = input ('Digite o segundo número:')+\n",
    "if numero1 >= numero2 :\n",
    "    print (f'{numero1} é maior que {numero2}')\n",
    "else: \n",
    "    print (f'{numero1} é menor que {numero2}')\n"
   ]
  },
  {
   "cell_type": "markdown",
   "metadata": {},
   "source": [
    "3 - Receba um inteiro e diga se é par ou ímpar."
   ]
  },
  {
   "cell_type": "code",
   "execution_count": 5,
   "metadata": {},
   "outputs": [
    {
     "name": "stdout",
     "output_type": "stream",
     "text": [
      "O 3 é impar\n"
     ]
    }
   ],
   "source": [
    "numero_inteiro = int (input ('Digite o número inteiro'))\n",
    "if numero_inteiro % 2 == 0 :\n",
    "    print (f'O {numero_inteiro} é par')\n",
    "else:\n",
    "    print (f'O {numero_inteiro} é impar')"
   ]
  },
  {
   "cell_type": "markdown",
   "metadata": {},
   "source": [
    "4 - Receba um número inteiro e diga se é positivo ou negativo"
   ]
  },
  {
   "cell_type": "code",
   "execution_count": 7,
   "metadata": {},
   "outputs": [
    {
     "name": "stdout",
     "output_type": "stream",
     "text": [
      "O -4 é negativo\n"
     ]
    }
   ],
   "source": [
    "numero_inteiro = int (input ('Digite o número inteiro'))\n",
    "if numero_inteiro >= 0 :\n",
    "    print (f'O {numero_inteiro} é positivo')\n",
    "else:\n",
    "    print (f'O {numero_inteiro} é negativo')"
   ]
  },
  {
   "cell_type": "markdown",
   "metadata": {},
   "source": [
    "5 - Pergunte o ano de nascimento de uma pessoa e diga se ele é maior de idade"
   ]
  },
  {
   "cell_type": "code",
   "execution_count": 10,
   "metadata": {},
   "outputs": [
    {
     "name": "stdout",
     "output_type": "stream",
     "text": [
      "Você é menor de idade\n"
     ]
    }
   ],
   "source": [
    "ano = int (input ('Digite seu ano de nascimento:'))\n",
    "if ano >= 18 :\n",
    "    print (f'Você é maior de idade')\n",
    "else:\n",
    "    print (f'Você é menor de idade')"
   ]
  },
  {
   "cell_type": "markdown",
   "metadata": {},
   "source": [
    "6 - Ler dois números inteiros e informar se estes são iguais ou diferentes."
   ]
  },
  {
   "cell_type": "code",
   "execution_count": 2,
   "metadata": {},
   "outputs": [
    {
     "name": "stdout",
     "output_type": "stream",
     "text": [
      "O 2 é diferente do 3\n"
     ]
    }
   ],
   "source": [
    "numero1 = int (input ('Digite o primeiro número:'))\n",
    "numero2 = int (input ('Digite o segundo número:'))\n",
    "if numero1 == numero2 :\n",
    "    print (f'O {numero1} é igual ao {numero2}')\n",
    "else:\n",
    "    print (f'O {numero1} é diferente do {numero2}')"
   ]
  },
  {
   "cell_type": "markdown",
   "metadata": {},
   "source": [
    "7 - Receba a velocidade do carro e exiba que foi multado se for maior que 80km/h, o valor da multa será R$ 7,00 por cada km excedido, exibir o valor da multa"
   ]
  },
  {
   "cell_type": "code",
   "execution_count": 12,
   "metadata": {},
   "outputs": [
    {
     "name": "stdout",
     "output_type": "stream",
     "text": [
      "O valor da multa é R$70.0\n"
     ]
    }
   ],
   "source": [
    "velocidade = float (input ('Digte a velocidade do carro'))\n",
    "if velocidade > 80 :\n",
    "    valor_multa = (velocidade - 80) * 7 \n",
    "    print (f'O valor da multa é R$ {valor_multa}')\n",
    "else:\n",
    "    print (f'Você não foi multado')"
   ]
  },
  {
   "cell_type": "markdown",
   "metadata": {},
   "source": [
    "8 - Escreva um programa que calcule o preço a ser pago por um produto considerando um desconto de 10% se o valor da compra for maior que R$ 100,00"
   ]
  },
  {
   "cell_type": "code",
   "execution_count": 13,
   "metadata": {},
   "outputs": [
    {
     "name": "stdout",
     "output_type": "stream",
     "text": [
      "Seu preço final com desconto é 135.0\n"
     ]
    }
   ],
   "source": [
    "valor = float (input ('digite o valor:'))\n",
    "if valor > 100 :\n",
    "    preço = (valor * 10) / 100\n",
    "    preço_final = valor - preço\n",
    "    print (f'Seu preço final com desconto é {preço_final}')\n",
    "else:\n",
    "    print (f' {valor}, você não obteve desconto')"
   ]
  }
 ],
 "metadata": {
  "kernelspec": {
   "display_name": "Python 3",
   "language": "python",
   "name": "python3"
  },
  "language_info": {
   "codemirror_mode": {
    "name": "ipython",
    "version": 3
   },
   "file_extension": ".py",
   "mimetype": "text/x-python",
   "name": "python",
   "nbconvert_exporter": "python",
   "pygments_lexer": "ipython3",
   "version": "3.12.2"
  }
 },
 "nbformat": 4,
 "nbformat_minor": 2
}
