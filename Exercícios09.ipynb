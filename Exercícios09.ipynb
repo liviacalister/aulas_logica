{
 "cells": [
  {
   "cell_type": "markdown",
   "metadata": {},
   "source": [
    "1. Crie uma função sem parâmetros que exiba uma linha com 50 * , e uma mensagem de boas vindas, chame essa função por 4 vezes"
   ]
  },
  {
   "cell_type": "code",
   "execution_count": 6,
   "metadata": {},
   "outputs": [
    {
     "name": "stdout",
     "output_type": "stream",
     "text": [
      "**************************************************\n",
      "Seja bem vindo\n",
      "**************************************************\n",
      "**************************************************\n",
      "Seja bem vindo\n",
      "**************************************************\n",
      "**************************************************\n",
      "Seja bem vindo\n",
      "**************************************************\n",
      "**************************************************\n",
      "Seja bem vindo\n",
      "**************************************************\n"
     ]
    }
   ],
   "source": [
    "def linha() :\n",
    "    print ('*' * 50)\n",
    "    print('Seja bem vindo')\n",
    "    print ('*' * 50)\n",
    "linha()\n",
    "linha()\n",
    "linha()\n",
    "linha()\n"
   ]
  },
  {
   "cell_type": "markdown",
   "metadata": {},
   "source": [
    "2. Crie uma função que contenha uma lista com as cores primárias e exiba cada cor em uma linha"
   ]
  },
  {
   "cell_type": "code",
   "execution_count": 1,
   "metadata": {},
   "outputs": [
    {
     "name": "stdout",
     "output_type": "stream",
     "text": [
      "Vermelho\n",
      "Amarelo\n",
      "Azul\n"
     ]
    }
   ],
   "source": [
    "def cores():\n",
    "    listaCores = ['Vermelho', 'Amarelo', 'Azul']\n",
    "    for cor in listaCores:\n",
    "        print(cor)\n",
    "\n",
    "cores()"
   ]
  },
  {
   "cell_type": "markdown",
   "metadata": {},
   "source": [
    "3. Crie uma função que recebe um número como parâmetro e exiba a tabuada até o 10, chame essa função por 3 vezes enviando parâmetros diferentes"
   ]
  },
  {
   "cell_type": "code",
   "execution_count": 4,
   "metadata": {},
   "outputs": [
    {
     "name": "stdout",
     "output_type": "stream",
     "text": [
      "3 X 0 = 0\n",
      "3 X 1 = 3\n",
      "3 X 2 = 6\n",
      "3 X 3 = 9\n",
      "3 X 4 = 12\n",
      "3 X 5 = 15\n",
      "3 X 6 = 18\n",
      "3 X 7 = 21\n",
      "3 X 8 = 24\n",
      "3 X 9 = 27\n",
      "3 X 10 = 30\n"
     ]
    }
   ],
   "source": [
    "def tabuada(nr) :\n",
    "    for x in range(11):\n",
    "        print(f'{nr} X {x} = {nr * x}')\n",
    "\n",
    "tabuada(3)\n",
    "    "
   ]
  },
  {
   "cell_type": "markdown",
   "metadata": {},
   "source": [
    "4. Crie uma função que receba 2 números e o operador matemático para realizar a operação (Ex. envio os parâmetros 2 e 5 e *, fazer a multiplicação), tratar as operações + - * / **"
   ]
  },
  {
   "cell_type": "code",
   "execution_count": 7,
   "metadata": {},
   "outputs": [
    {
     "name": "stdout",
     "output_type": "stream",
     "text": [
      "42\n"
     ]
    }
   ],
   "source": [
    "def calculadora(n1, n2, op) :\n",
    "    if op =='+' :\n",
    "        res = n1 + n2\n",
    "    elif op == '-':\n",
    "        res = n1 - n2\n",
    "    elif op == '*':\n",
    "        res = n1 * n2\n",
    "    elif op == '/':\n",
    "        res = n1 / n2\n",
    "    elif op == '**':\n",
    "        res = n1 ** n2\n",
    "    else:\n",
    "        res = 'Digite um operador válido'\n",
    "    print(res)\n",
    "\n",
    "    \n",
    "calculadora(6,7,'*')"
   ]
  },
  {
   "cell_type": "markdown",
   "metadata": {},
   "source": [
    "5. Crie uma função que gere uma senha aleatória, deve receber como parâmetro a quantidade de caracteres que terá a senha, crie uma lista com todos os caracteres disponíveis para a senha e com o random sorteie a qual de dígitos terá a senha"
   ]
  },
  {
   "cell_type": "code",
   "execution_count": 8,
   "metadata": {},
   "outputs": [
    {
     "name": "stdout",
     "output_type": "stream",
     "text": [
      "e0iuv\n"
     ]
    }
   ],
   "source": [
    "import random\n",
    "def senhaAleatoria(tamanho) :\n",
    "    listaCaractereres = 'dghewhgw3ueyewemveii12345678990'\n",
    "    senha = ''\n",
    "    for i in range(tamanho) :\n",
    "        senha = senha + random.choice(listaCaractereres)\n",
    "    \n",
    "    return(senha)\n",
    "senhaTemp = senhaAleatoria(5)\n",
    "print(senhaTemp)"
   ]
  }
 ],
 "metadata": {
  "kernelspec": {
   "display_name": "Python 3",
   "language": "python",
   "name": "python3"
  },
  "language_info": {
   "codemirror_mode": {
    "name": "ipython",
    "version": 3
   },
   "file_extension": ".py",
   "mimetype": "text/x-python",
   "name": "python",
   "nbconvert_exporter": "python",
   "pygments_lexer": "ipython3",
   "version": "3.12.3"
  }
 },
 "nbformat": 4,
 "nbformat_minor": 2
}
