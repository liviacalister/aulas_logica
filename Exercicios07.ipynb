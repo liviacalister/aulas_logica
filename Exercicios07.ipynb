{
 "cells": [
  {
   "cell_type": "markdown",
   "metadata": {},
   "source": [
    "1. Crie uma lista de filmes com 7 filmes a sua escolha, e faça as seguintes operações com ela:"
   ]
  },
  {
   "cell_type": "code",
   "execution_count": 16,
   "metadata": {},
   "outputs": [
    {
     "name": "stdout",
     "output_type": "stream",
     "text": [
      "Meninas Malvadas\n",
      "Velozes e Furiosos\n",
      "['Meninas Malvadas', 'Shrek', 'Todos Menos Você', 'Velozes e Furiosos', 'Enrolados', 'O segredo dos animais', 'Frozen']\n",
      "['Meninas Malvadas', 'Shrek', 'Todos Menos Você', 'Velozes e Furiosos', 'Enrolados', 'O segredo dos animais', 'Frozen', 'Moana']\n",
      "['Meninas Malvadas', 'Shrek', 'Todos Menos Você', 'Velozes e Furiosos', 'Enrolados', 'Barbie Fairytopia', 'O segredo dos animais', 'Frozen', 'Moana']\n",
      "['Shrek', 'Todos Menos Você', 'Velozes e Furiosos', 'Enrolados', 'Barbie Fairytopia', 'O segredo dos animais', 'Frozen', 'Moana']\n",
      "['Shrek', 'Todos Menos Você', 'Velozes e Furiosos', 'Enrolados', 'Barbie Fairytopia', 'O segredo dos animais', 'Frozen']\n",
      "['Shrek', 'Todos Menos Você', 'Velozes e Furiosos']\n",
      "['Enrolados', 'Barbie Fairytopia', 'O segredo dos animais', 'Frozen']\n",
      "7\n",
      "['Frozen', 'O segredo dos animais', 'Barbie Fairytopia', 'Enrolados', 'Velozes e Furiosos', 'Todos Menos Você', 'Shrek']\n"
     ]
    }
   ],
   "source": [
    "filmes = ['Meninas Malvadas' , 'Shrek' , 'Todos Menos Você' , 'Velozes e Furiosos' , 'Enrolados' , 'O segredo dos animais' , 'Abracadabra']\n",
    "\n",
    "#Exiba apenas o primeiro o filme da lista\n",
    "print(filmes[0])\n",
    "\n",
    "#Exiba o filme da posição 4\n",
    "print(filmes[3])\n",
    "\n",
    "#Substitua o filme da última posição e exiba a lista\n",
    "filmes[6] = 'Frozen'\n",
    "print(filmes)\n",
    "\n",
    "#Insira um novo filme no final da lista e exiba a lista\n",
    "filmes.append('Moana')\n",
    "print(filmes)\n",
    "\n",
    "#Insira um novo filme na posição 5 e exiba a lista\n",
    "filmes.insert (5, 'Barbie Fairytopia')\n",
    "print(filmes)\n",
    "\n",
    "#Exclua o primeiro filme e exiba a lista\n",
    "filmes.pop(0)\n",
    "print(filmes)\n",
    "\n",
    "#Exclua o último filme e exiba a lista\n",
    "filmes.pop(7)\n",
    "print(filmes)\n",
    "\n",
    "#Exiba os 3 primeiros filmes da lista\n",
    "print(filmes[0:3])\n",
    "\n",
    "#Exiba os 4 últimos filmes da lista\n",
    "print(filmes[-4:])\n",
    "\n",
    "#Exiba a quantidade de filmes atualmente na lista\n",
    "print(len(filmes))\n",
    "\n",
    "#Ordene os filmes em ordem decrescente e exiba-os\n",
    "filmes.reverse()\n",
    "print(filmes)"
   ]
  },
  {
   "cell_type": "markdown",
   "metadata": {},
   "source": [
    "2. Crie uma lista com os 20 times do campeonato brasileiro de futebol"
   ]
  },
  {
   "cell_type": "code",
   "execution_count": 24,
   "metadata": {},
   "outputs": [
    {
     "name": "stdout",
     "output_type": "stream",
     "text": [
      "O campeão é Corinthians\n",
      "['Corinthians', 'Palmeiras', 'Flamengo', 'Botafogo'] irão jogar a libertadores\n",
      "['Vitória', 'Juventude', 'Criciúma', 'Atlético-GO'] estão rebaixados para a série B\n"
     ]
    }
   ],
   "source": [
    "times = ['Corinthians' , 'Palmeiras' , 'Flamengo' , 'Botafogo' , 'Grêmio' , 'Atlético-MG' , 'Bragantino' , 'Fluminense' , 'Athletico-PR' , 'Internacional' , 'Fortaleza' , 'São Paulo' , 'Cuiabá' , 'Cruzeiro' , 'Vasco' , 'Bahia' , 'Vitória' , 'Juventude' , 'Criciúma' , 'Atlético-GO']\n",
    "\n",
    "#Exiba o primeiro time da lista como campeão\n",
    "print(f'O campeão é {times[0]}')\n",
    "\n",
    "#Exiba os 4 primeiros times como que irão jogar a libertadores\n",
    "print(f'{times [0:4]} irão jogar a libertadores')\n",
    "\n",
    "#Exiba os 4 últimos times como os que estão rebaixados para a série B\n",
    "print(f'{times[-4:]} estão rebaixados para a série B')"
   ]
  },
  {
   "cell_type": "markdown",
   "metadata": {},
   "source": [
    "3. Crie um programa que receba do usuário através do input 6 comidas e refaça todos os itens do exercício 1"
   ]
  },
  {
   "cell_type": "code",
   "execution_count": null,
   "metadata": {},
   "outputs": [],
   "source": [
    "comidas = []\n",
    "for x in range (6) :\n",
    "    comida_digitada = input('Digite as comidas:')\n",
    "    comidas.append(comida_digitada)\n",
    "    print(comidas)\n",
    "\n",
    "#Exiba apenas a primeira comida da lista\n",
    "print(comidas[0])\n",
    "\n",
    "#Exiba a comida da posição 4\n",
    "print(comidas[3])\n",
    "\n",
    "#Substitua a comida da última posição e exiba a lista\n",
    "comidas[5] = 'Peixe'\n",
    "print(comidas)\n",
    "\n",
    "#Insira uma nova comida no final da lista e exiba a lista\n",
    "comidas.append('Feijoada')\n",
    "print(comidas)\n",
    "\n",
    "#Insira uma nova comida na posição 5 e exiba a lista\n",
    "comidas.insert (5, 'sushi')\n",
    "print(comidas)"
   ]
  }
 ],
 "metadata": {
  "kernelspec": {
   "display_name": "Python 3",
   "language": "python",
   "name": "python3"
  },
  "language_info": {
   "codemirror_mode": {
    "name": "ipython",
    "version": 3
   },
   "file_extension": ".py",
   "mimetype": "text/x-python",
   "name": "python",
   "nbconvert_exporter": "python",
   "pygments_lexer": "ipython3",
   "version": "3.12.2"
  }
 },
 "nbformat": 4,
 "nbformat_minor": 2
}
